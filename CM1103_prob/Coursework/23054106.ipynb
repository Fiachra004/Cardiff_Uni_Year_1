{
 "cells": [
  {
   "cell_type": "code",
   "execution_count": 2,
   "metadata": {},
   "outputs": [],
   "source": [
    "import random\n",
    "import matplotlib.pyplot as plt\n",
    "import csv"
   ]
  },
  {
   "cell_type": "markdown",
   "metadata": {},
   "source": [
    "Question 1\n",
    "==========\n",
    "\n",
    "All parts of Question 1 use the _point-a-rally (PARS) scoring_ system.\n",
    "\n",
    "**Question 1a:** Complete the following function so that it implements the PARS algorithm from the coursework specification.\n",
    "\n",
    "**[Functionality: 7 marks]**"
   ]
  },
  {
   "cell_type": "code",
   "execution_count": 835,
   "metadata": {},
   "outputs": [],
   "source": [
    "\n",
    "# Game function is defined with the \"skill\" of player a and b as the paramerters/arguments\n",
    "def game(ra, rb):\n",
    "    # probability of a winning is calculated, and points are set for 0\n",
    "    ra_prob = ra / (ra + rb)\n",
    "    ra_points = 0\n",
    "    rb_points = 0\n",
    "    # while loop created to ensure the loop doesn't finish until the score is of at least 1 player is 11 and there is a difference of 2\n",
    "    while abs(ra_points - rb_points) < 2 or (ra_points < 11 and rb_points < 11):\n",
    "        # random number creates number between 1 and 0 to represent probability of other player winning\n",
    "        rand_num = random.uniform(0, 1)\n",
    "        # if statement for a to win and get a point\n",
    "        if rand_num < ra_prob:\n",
    "            ra_points += 1\n",
    "        # else a win and gains a point\n",
    "        else:\n",
    "            rb_points += 1\n",
    "    # value are retured in a tuple\n",
    "    return ra_points, rb_points\n",
    "\n"
   ]
  },
  {
   "cell_type": "markdown",
   "metadata": {},
   "source": [
    "**Testing:** If the random seed is set to 57, then calling the function with arguments `70` and `30` should return `(11,5)`."
   ]
  },
  {
   "cell_type": "code",
   "execution_count": 836,
   "metadata": {},
   "outputs": [
    {
     "name": "stdout",
     "output_type": "stream",
     "text": [
      "(11, 5)\n"
     ]
    }
   ],
   "source": [
    "random.seed(57)\n",
    "print(game(70, 30))"
   ]
  },
  {
   "cell_type": "markdown",
   "metadata": {},
   "source": [
    "**Question 1b:** Complete the following function `win_probability_game(ra, rb, simulations)` to simulate `simulations` games in order to estimate the probability that a player with ability `ra` will win a game against a player of ability `rb`.\n",
    "\n",
    "**[Functionality: 4 marks]**"
   ]
  },
  {
   "cell_type": "code",
   "execution_count": 837,
   "metadata": {},
   "outputs": [],
   "source": [
    "\n",
    "# function is defined \n",
    "def win_probability_game(ra, rb, simulations = 10000):\n",
    "    # wins set to 0\n",
    "    a_wins = 0\n",
    "    # looping through simulations \n",
    "    for sim in range(simulations):\n",
    "        results = game(ra, rb)\n",
    "        if results[0] > results[1]:\n",
    "            a_wins +=1\n",
    "    # calculated the probability based off number of wins divided by total games\n",
    "    a_win_prob = a_wins/simulations\n",
    "    return a_win_prob\n"
   ]
  },
  {
   "cell_type": "markdown",
   "metadata": {},
   "source": [
    "**Testing:** Given sufficient simulations, calling the function with abilities `70` and `30` should give the answer `0.98` when printed to 2 decimal places."
   ]
  },
  {
   "cell_type": "code",
   "execution_count": 838,
   "metadata": {},
   "outputs": [
    {
     "name": "stdout",
     "output_type": "stream",
     "text": [
      "0.98\n"
     ]
    }
   ],
   "source": [
    "# Print win_probability_game(70, 30) to 2 decimal places for a suitable value of n:\n",
    "print(round(win_probability_game(70, 30), 2))"
   ]
  },
  {
   "cell_type": "markdown",
   "metadata": {},
   "source": [
    "**Question 1c:** Assume players abilities are given in a csv file with the format:\n",
    "```\n",
    "player a ability, player b ability,\n",
    "60, 20,\n",
    "100, 55,\n",
    "50, 40,\n",
    "20, 70,\n",
    "95, 85,\n",
    "```\n",
    "Complete the following function to read in a specified csv file of this format and return a `list` of `tuple`s containing each pair of abilities.\n",
    "\n",
    "**[Functionality: 4 marks]**"
   ]
  },
  {
   "cell_type": "code",
   "execution_count": 839,
   "metadata": {},
   "outputs": [],
   "source": [
    "# function defined\n",
    "def read_abilities(filename):\n",
    "    # empty list to append the csv to \n",
    "    lists = []\n",
    "    # opening the file in read mode (default)\n",
    "    with open(filename) as file:\n",
    "        rows = csv.reader(file)\n",
    "        # skipping the first row as it contains text\n",
    "        next(rows)\n",
    "        # looping through csv row by row adding value to list\n",
    "        for row in rows:\n",
    "            lists.append((int(row[0]), int(row[1])))\n",
    "    # returning the list\n",
    "    return lists\n",
    "\n",
    "    "
   ]
  },
  {
   "cell_type": "markdown",
   "metadata": {},
   "source": [
    "**Testing:** Calling the function to read the file `test.csv` from Learning Central should return `[(60, 20), (100, 55), (50, 40), (20, 70), (95, 85)]`"
   ]
  },
  {
   "cell_type": "code",
   "execution_count": 840,
   "metadata": {},
   "outputs": [
    {
     "name": "stdout",
     "output_type": "stream",
     "text": [
      "[(60, 20), (100, 55), (50, 40), (20, 70), (95, 85)]\n"
     ]
    }
   ],
   "source": [
    "print(read_abilities(\"test.csv\"))"
   ]
  },
  {
   "cell_type": "markdown",
   "metadata": {},
   "source": [
    "**Question 1d:** Write a function that takes a `list` of the format returned by your answer to 1c as an argument, and uses `matplotlib` to produce a plot (with labelled axes) showing the probability that player a beats player b (in a game) against `ra / r_b` for each pair.\n",
    "\n",
    "**[Functionality: 5 marks]**"
   ]
  },
  {
   "cell_type": "code",
   "execution_count": 841,
   "metadata": {},
   "outputs": [],
   "source": [
    "# function is defined\n",
    "def plot_win_probabilities(list):\n",
    "    # x and y values are defined as empty lists\n",
    "    x = []\n",
    "    y = []\n",
    "    # looping through the tuple and adding the value to the list of x and y values\n",
    "    for tuple in list:\n",
    "        x.append(tuple[0]/tuple[1])\n",
    "        y.append(win_probability_game(tuple[0], tuple[1]))\n",
    "    # plotting the values \n",
    "    plt.plot(x, y, \"o\")\n",
    "    plt.xlabel(\"ra/rb\")\n",
    "    plt.ylabel(\"Probability\")\n",
    "    plt.show()\n"
   ]
  },
  {
   "cell_type": "markdown",
   "metadata": {},
   "source": [
    "**Testing:** The following figure (or similar) should result from the data `[(60, 20), (100, 55), (50, 40), (20, 70), (95, 85)]'\n",
    "\n",
    "<img src=\"./win_probabilities.png\" alt=\"Win probabilities\" width=\"500\">\n"
   ]
  },
  {
   "cell_type": "code",
   "execution_count": 842,
   "metadata": {},
   "outputs": [
    {
     "data": {
      "image/png": "[encoded data removed]",
      "text/plain": [
       "<Figure size 640x480 with 1 Axes>"
      ]
     },
     "metadata": {},
     "output_type": "display_data"
    }
   ],
   "source": [
    "plot_win_probabilities(read_abilities(\"test.csv\"))"
   ]
  },
  {
   "cell_type": "markdown",
   "metadata": {},
   "source": [
    "**Question 1e:** Complete the following function `win_probability_match(ra, rb, simulations, m)` to simulate `simulations` matches which are won by the first player to win `m` games, and returns an estimate of the probability that a player with ability `ra` will win such a match against a player of ability `rb`.\n",
    "\n",
    "Provide code that works out the smallest value of `m` such that `win_probability_match(60, 40, simulations, m)` is at least `0.9`. \n",
    "\n",
    "_HINT: make sure you use an appropriate value for `simulations`._\n",
    "\n",
    "**[Functionality: 5 marks]**"
   ]
  },
  {
   "cell_type": "code",
   "execution_count": 843,
   "metadata": {},
   "outputs": [
    {
     "name": "stdout",
     "output_type": "stream",
     "text": [
      "2\n"
     ]
    }
   ],
   "source": [
    "# function defined\n",
    "def win_probability_match(ra, rb, simulations, m):\n",
    "    # set match wins and amount of simulations we want to do\n",
    "    a_match_wins = 0 \n",
    "    for sim in range(simulations):\n",
    "        a_wins = 0\n",
    "        b_wins = 0\n",
    "        # peramaters that must be met in order for the loop to be broken and another simulation to begin\n",
    "        while (a_wins < m) and (b_wins < m):\n",
    "            results = game(ra, rb)\n",
    "            if results[0] > results[1]:\n",
    "                a_wins +=1\n",
    "            else:\n",
    "                b_wins +=1\n",
    "        # if statment so value is only added if a wins a match\n",
    "        if a_wins == m:\n",
    "            a_match_wins += 1\n",
    "    # value returned as a probability\n",
    "    return a_match_wins/simulations\n",
    "\n",
    "# testing which value of m gives you at least 0.9\n",
    "m = 1\n",
    "\n",
    "while win_probability_match(60, 40, 1000, m) < 0.9:\n",
    "    m += 1\n",
    "\n",
    "print(m)\n",
    "\n",
    "\n",
    "\n",
    "\n",
    "    "
   ]
  },
  {
   "cell_type": "markdown",
   "metadata": {},
   "source": [
    "Question 2\n",
    "==========\n",
    "\n",
    "Complete the remaining template of a scientific report that uses the results of simulation (with suitable input data) to investigate whether English or PARS is the ``better'' scoring method for squash matches. \n",
    "\n",
    "You should clearly state any assumptions you make, and may add any number of code cells. Guidance for completing the markdown/text cells is given in the coursework specification. The word count of the remaining markdown/text cells must be at most 750.\n",
    "\n",
    "Your investigation should consider the relative ability of the two players (i.e. `ra/rb`) as the _independent variable_ and include appropriate figures that show how your choice of relevant _dependent variable_ varies. Your results **must** cover at least 50 different values of `ra/rb`.\n",
    "\n",
    "Some starting points you may consider:\n",
    "- How _fair_ is the scoring method - does the better player usually win?\n",
    "- Shorter matches are usually preferable (e.g. for television) - if you assume each rally in a match takes equal time, how long do matches typically last?\n",
    "- What effect does the relative ability of the two players have?\n",
    "\n",
    "**[Report: 7 marks; Achievement: 8 marks]**"
   ]
  },
  {
   "cell_type": "markdown",
   "metadata": {},
   "source": [
    "## Problem"
   ]
  },
  {
   "cell_type": "markdown",
   "metadata": {},
   "source": [
    "Investigating the superior scoring method for squash matches English or PARS  has challenges due to the subjective nature of what is “better”. For my investigation I will be focusing on the fairness, and the length of the game.\n",
    "\n",
    "PARS, with its direct point allocation, likely better represents fairness than the English system, which limits scoring to the server, potentially favouring the more skilled player.\n",
    "\n",
    "A shorter game length may be better, due to potential issues with broadcasting if a game runs longer, this issue may arise with the english rule set that may take more rallies to finish a match.\n"
   ]
  },
  {
   "cell_type": "markdown",
   "metadata": {},
   "source": [
    "## Method"
   ]
  },
  {
   "cell_type": "markdown",
   "metadata": {},
   "source": [
    "To assess fairness and measure match duration, I'll calculate the probability of a player winning and count the number of rallies in a match.\n",
    "First, I'll establish two functions reflecting the scoring systems for English and PARS rules:\n",
    "\n",
    "English Rules:\n",
    "- Points can only be scored by the server.\n",
    "- Winning a rally as a non-server results in becoming the server without gaining points.\n",
    "- The game is won at 9 points, except when tied at 8-8, where the first to reach 8 decides to play to 9 or 10.\n",
    "\n",
    "PARS:\n",
    "- The winner of a rally earns a point and maintains/becomes the server.\n",
    "- The game concludes at 11 points with a minimum 2-point lead.\n",
    "\n",
    "Player ability, represented as an integer between 0 and 100, will determine the probability \n",
    "of player A winning, computed by the function:\n",
    "\n",
    "Player A Ability / Player B Ability + Player A Ability\n",
    "\n",
    "\n",
    "Both functions must return the game result, influenced by both players' abilities, and include the number of rallies.\n"
   ]
  },
  {
   "cell_type": "code",
   "execution_count": 853,
   "metadata": {},
   "outputs": [],
   "source": [
    "# English Scoring Functions --------------------------------\n",
    "\n",
    "def game_english(a_ability, b_ability):\n",
    "    # for both functions I will use the same calculation to find the probability that player a wins a point\n",
    "    a_win_prob = a_ability / (a_ability + b_ability)\n",
    "    a_score = 0\n",
    "    b_score = 0\n",
    "    a_server = random.randint(0, 1) \n",
    "    rally = 0 \n",
    "    # while loop to ensure that is loops until either 9 is reached or if the score goes too 8 - 8 until 10 is reached\n",
    "    while (a_score < 9 and b_score < 9):\n",
    "        # if statement to check whether the a or b is the server allowing point allocating in english scoring style or server reallocation\n",
    "        if a_server == 0:\n",
    "            rand_num = random.uniform(0, 1)\n",
    "            if rand_num < a_win_prob:\n",
    "                a_score += 1\n",
    "            else:\n",
    "                a_server = 1\n",
    "            rally += 1\n",
    "        else:\n",
    "            rand_num = random.uniform(0, 1)\n",
    "            if rand_num < a_win_prob:\n",
    "                a_server = 0\n",
    "            else:\n",
    "                b_score += 1\n",
    "            rally += 1\n",
    "        # this will check the scores if they reach 8-8 meaning the scoring system has chance to change\n",
    "        if (a_score == 8 and b_score == 8):\n",
    "            choice = random.randint(0, 1)\n",
    "            # if it stays until 9 it will skip and just follow the main while loop\n",
    "            if choice == 0:\n",
    "                pass\n",
    "            # otherwise it will go until either of the points reach 10\n",
    "            else:\n",
    "                while (a_score < 10 and b_score < 10):\n",
    "                    if a_server == 0:\n",
    "                        rand_num = random.uniform(0, 1)\n",
    "                        if rand_num < a_win_prob:\n",
    "                            a_score += 1\n",
    "                        else:\n",
    "                            a_server = 1\n",
    "                        rally += 1\n",
    "                    else:\n",
    "                        rand_num = random.uniform(0, 1)\n",
    "                        if rand_num < a_win_prob:\n",
    "                            a_server = 0\n",
    "                        else:\n",
    "                            b_score += 1 \n",
    "                        rally += 1 \n",
    "    return a_score, b_score, rally\n",
    "\n",
    "# Pars Scoring Functions --------------------------------\n",
    "\n",
    "def game_pars(a_ability, b_ability):\n",
    "    a_win_prob = a_ability / (a_ability + b_ability)\n",
    "    a_points = 0\n",
    "    b_points = 0 \n",
    "    # while statement so that point allocation follows the rules of PARS\n",
    "    while abs(a_points - b_points) < 2 or (a_points < 11 and b_points < 11):\n",
    "        rand_num = random.uniform(0, 1)\n",
    "        if rand_num < a_win_prob:\n",
    "            a_points += 1\n",
    "        else:\n",
    "            b_points += 1\n",
    "    return a_points, b_points, a_points + b_points\n",
    "\n",
    "\n"
   ]
  },
  {
   "cell_type": "markdown",
   "metadata": {},
   "source": [
    "Testing will occur with random.seed(30), and both players will consistently have an ability score of 50. It's essential to verify that the function adheres to the specified rule set."
   ]
  },
  {
   "cell_type": "code",
   "execution_count": 854,
   "metadata": {},
   "outputs": [
    {
     "name": "stdout",
     "output_type": "stream",
     "text": [
      "(10, 8, 31)\n",
      "(11, 7, 18)\n"
     ]
    }
   ],
   "source": [
    "# Testing for each of the functions to show they create results with intended rule sets.\n",
    "random.seed(30)\n",
    "\n",
    "print(game_english(50, 50))\n",
    "\n",
    "print(game_pars(50, 50))\n"
   ]
  },
  {
   "cell_type": "markdown",
   "metadata": {},
   "source": [
    "Now the two functions return outcomes and rally count, we can calculate probability that player A wins a match, and count how many rallies are in an average match. A match is usually best of 5 so it will be first to win three games."
   ]
  },
  {
   "cell_type": "code",
   "execution_count": 855,
   "metadata": {},
   "outputs": [],
   "source": [
    "# defined function for match simulations\n",
    "\n",
    "def match_probability_sim(a_ability, b_ability, simulations, rule_type):\n",
    "    # variable in which we want returned, this is how we will find our probability and average\n",
    "    a_match_wins = 0 \n",
    "    total_rallys = 0\n",
    "    # looping for the amount of simulations that we want \n",
    "    for sim in range(simulations):\n",
    "        # every time a new loop start the number of wins is set to 0\n",
    "        a_wins = 0 \n",
    "        b_wins = 0 \n",
    "        while(a_wins < 3 and b_wins < 3):\n",
    "            # ability to use rule type, so ther aren't two separate functions too simulate different rules\n",
    "            if rule_type == \"english\":\n",
    "                results = game_english(a_ability, b_ability)\n",
    "            else:\n",
    "                results = game_pars(a_ability, b_ability)\n",
    "            # allocating win \"points\" by finding out which of the end values is higher as that indicate who won the game\n",
    "            if results[0] > results[1]:\n",
    "                a_wins += 1\n",
    "            else:\n",
    "                b_wins += 1\n",
    "            # calculating the total amount of rallys, we can get this value from the game functions written earlier\n",
    "            total_rallys += results[2]\n",
    "\n",
    "        if a_wins > b_wins:\n",
    "            a_match_wins += 1\n",
    "    # this will return the probability that A wins the game, and the average amount of rallys within the games\n",
    "    return (a_match_wins/simulations), total_rallys/simulations"
   ]
  },
  {
   "cell_type": "markdown",
   "metadata": {},
   "source": [
    "To ensure the results are accurate we must conduct these tests with a large amount of simulations, the greater the simulations, the greater the accuracy, but also greater the time taken to run the simulations. "
   ]
  },
  {
   "cell_type": "code",
   "execution_count": 848,
   "metadata": {},
   "outputs": [
    {
     "name": "stdout",
     "output_type": "stream",
     "text": [
      "(0.505, 115.689)\n",
      "(0.473, 77.085)\n"
     ]
    }
   ],
   "source": [
    "\n",
    "random.seed(30)\n",
    "\n",
    "print(match_probability_sim(50, 50, 1000, \"english\"))\n",
    "\n",
    "print(match_probability_sim(50, 50, 1000, \"pars\"))"
   ]
  },
  {
   "cell_type": "markdown",
   "metadata": {},
   "source": [
    "Now we can calculate probabilities and rally length, when we can produce a graph to show the results. To observe impact of ability we must iterate from 1 to 100 assigning each integer to Player A's ability as an independent variable, while player B's ability remains at 50. I will create two graphs for rallies and probabilities, each with two lines representing the rule types.\n",
    "\n",
    "The Rally length and probabilities will be plotted against Player As ability relative to Player Bs\n"
   ]
  },
  {
   "cell_type": "code",
   "execution_count": 856,
   "metadata": {},
   "outputs": [],
   "source": [
    "def graph(graph_type):\n",
    "    # empty lists created so values can be added to them. \n",
    "    x1 = []\n",
    "    y1 = []\n",
    "    y2 = []\n",
    "    # controlled variable player ability B, ability of Player A will be are Independent variable\n",
    "    b_ability = 50\n",
    "    # looping through 100 integer values that will be used to represent Player A ability, as this changes we should see change in the graph\n",
    "    for a in range(101):\n",
    "        a_ability = a\n",
    "        # decide graphy type you want to see either match or match rallys \n",
    "        if graph_type == \"match\": \n",
    "            x1.append(a_ability/b_ability)\n",
    "            y1.append(match_probability_sim(a_ability, b_ability, 1000, \"english\")[0])\n",
    "            y2.append(match_probability_sim(a_ability, b_ability, 1000, \"par\")[0])\n",
    "            plt.xlabel(\"ra/rb\")\n",
    "            plt.ylabel(\"Probability\")\n",
    "            plt.title(\"Probability Player A wins a match based on their ability Relative to player B\")\n",
    "        elif graph_type == \"match rallys\":\n",
    "            x1.append(a_ability/b_ability)\n",
    "            y1.append(match_probability_sim(a_ability, b_ability, 1000, \"english\")[1])\n",
    "            y2.append(match_probability_sim(a_ability, b_ability, 1000, \"par\")[1])\n",
    "            plt.xlabel(\"ra/rb\")\n",
    "            plt.ylabel(\"rallys per match\")\n",
    "            plt.title(\"Rallys per match\")\n",
    "    # fucntions for plotting graphs\n",
    "    plt.plot(x1, y1, label = \"english scoring\")\n",
    "    plt.plot(x1, y2, label = \"Pars Scoring\")\n",
    "    plt.legend([\"English Scoring\", \"PARS Scoring\"])\n",
    "    plt.grid()\n",
    "    plt.show()\n",
    "\n",
    "    \n"
   ]
  },
  {
   "cell_type": "markdown",
   "metadata": {},
   "source": [
    "## Assumptions"
   ]
  },
  {
   "cell_type": "markdown",
   "metadata": {},
   "source": [
    "Several assumptions underlie these tests, most obviously the measure of a player's skill, which may be too vague e.g a player may be better off a serve than return. Rallies may not be at the same time, so doesn’t show the exact length but may indicate it. The choice whether a game goes to 9 or 10 points is also random, however  certain players may have certain biases to how long a game is. "
   ]
  },
  {
   "cell_type": "markdown",
   "metadata": {},
   "source": [
    "## Results"
   ]
  },
  {
   "cell_type": "markdown",
   "metadata": {},
   "source": [
    "The first graph shows the probability the player A wins a game with skill relative to player B. The impact of rule type on fairness was very minimal with only slight variations. When Player B has greater ability, the probability of Player A winning is slightly lower in the English scoring system, and vice versa. \n",
    "\n",
    "The second graph, does outline a difference. When presenting the number of rallies in a match while the ability ratio is less than 0.2 the number of rallies is lower in the English system compared to PARS. After this ration point however the English system consistently records more rallies, with the most significant difference occurring at the midpoint. This can be explained due when two players are equal ability under english scoring, there is more likely to be rallies where no points are scored, but the server changes hence taking longer for game to finish.\n"
   ]
  },
  {
   "cell_type": "code",
   "execution_count": 857,
   "metadata": {},
   "outputs": [
    {
     "data": {
      "image/png": "[encoded data removed]",
      "text/plain": [
       "<Figure size 640x480 with 1 Axes>"
      ]
     },
     "metadata": {},
     "output_type": "display_data"
    },
    {
     "data": {
      "image/png": "[encoded data removed]",
      "text/plain": [
       "<Figure size 640x480 with 1 Axes>"
      ]
     },
     "metadata": {},
     "output_type": "display_data"
    }
   ],
   "source": [
    "graph(\"match\")\n",
    "graph(\"match rallys\")"
   ]
  },
  {
   "cell_type": "markdown",
   "metadata": {},
   "source": [
    "## Conclusions"
   ]
  },
  {
   "cell_type": "markdown",
   "metadata": {},
   "source": [
    "The first graph indicates nearly identical probabilities between the two game types, with both showing a trend favouring the player with higher ability. However, the second graph highlights the potential time disparity in matches played under English scoring. Longer matches pose challenges for entertainment and broadcasting. Consequently, it can be inferred that PARS is the more favourable scoring system.\n",
    "\n",
    "This investigation involved various assumptions. Future research should aim to minimise these assumptions for more precise and reliable results.\n"
   ]
  }
 ],
 "metadata": {
  "interpreter": {
   "hash": "183b6f3dd52b9ae2bd385afe1588cc6cf56d78005d888e2b09b3c195f16f84ec"
  },
  "kernelspec": {
   "display_name": "Python 3.9.1 64-bit ('base': conda)",
   "name": "python3"
  },
  "language_info": {
   "codemirror_mode": {
    "name": "ipython",
    "version": 3
   },
   "file_extension": ".py",
   "mimetype": "text/x-python",
   "name": "python",
   "nbconvert_exporter": "python",
   "pygments_lexer": "ipython3",
   "version": "3.12.0"
  },
  "orig_nbformat": 4
 },
 "nbformat": 4,
 "nbformat_minor": 2
}
