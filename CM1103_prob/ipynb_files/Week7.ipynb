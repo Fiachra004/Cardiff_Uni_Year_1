{
 "cells": [
  {
   "cell_type": "markdown",
   "metadata": {},
   "source": [
    "Coursework"
   ]
  },
  {
   "cell_type": "code",
   "execution_count": 1,
   "metadata": {},
   "outputs": [],
   "source": [
    "import random"
   ]
  },
  {
   "cell_type": "code",
   "execution_count": 6,
   "metadata": {},
   "outputs": [
    {
     "name": "stdout",
     "output_type": "stream",
     "text": [
      "0.9664535356921388\n",
      "0.4407325991753527\n",
      "0.007491470058587191\n",
      "0.9109759624491242\n",
      "0.939268997363764\n"
     ]
    }
   ],
   "source": [
    "random.seed(1234)\n",
    "for i in range(5):\n",
    "    print(random.random())"
   ]
  },
  {
   "cell_type": "code",
   "execution_count": 7,
   "metadata": {},
   "outputs": [],
   "source": [
    "# Calculate nth Fibonacci number using recursion\n",
    "def f(n):\n",
    "    if n == 1 or n == 2:\n",
    "        return 1 # Base case\n",
    "    else:\n",
    "        return f(n - 1) + f(n - 2)  # Recursive step"
   ]
  },
  {
   "cell_type": "code",
   "execution_count": 8,
   "metadata": {},
   "outputs": [
    {
     "ename": "RecursionError",
     "evalue": "maximum recursion depth exceeded in comparison",
     "output_type": "error",
     "traceback": [
      "\u001b[0;31m---------------------------------------------------------------------------\u001b[0m",
      "\u001b[0;31mRecursionError\u001b[0m                            Traceback (most recent call last)",
      "\u001b[1;32m/Users/stuartallen/Documents/Teaching/cm1103/Live session material/Week 7/Week7.ipynb Cell 5\u001b[0m line \u001b[0;36m1\n\u001b[0;32m----> <a href='vscode-notebook-cell:/Users/stuartallen/Documents/Teaching/cm1103/Live%20session%20material/Week%207/Week7.ipynb#X35sZmlsZQ%3D%3D?line=0'>1</a>\u001b[0m f(\u001b[39m0\u001b[39;49m)\n",
      "\u001b[1;32m/Users/stuartallen/Documents/Teaching/cm1103/Live session material/Week 7/Week7.ipynb Cell 5\u001b[0m line \u001b[0;36m6\n\u001b[1;32m      <a href='vscode-notebook-cell:/Users/stuartallen/Documents/Teaching/cm1103/Live%20session%20material/Week%207/Week7.ipynb#X35sZmlsZQ%3D%3D?line=3'>4</a>\u001b[0m     \u001b[39mreturn\u001b[39;00m \u001b[39m1\u001b[39m \u001b[39m# Base case\u001b[39;00m\n\u001b[1;32m      <a href='vscode-notebook-cell:/Users/stuartallen/Documents/Teaching/cm1103/Live%20session%20material/Week%207/Week7.ipynb#X35sZmlsZQ%3D%3D?line=4'>5</a>\u001b[0m \u001b[39melse\u001b[39;00m:\n\u001b[0;32m----> <a href='vscode-notebook-cell:/Users/stuartallen/Documents/Teaching/cm1103/Live%20session%20material/Week%207/Week7.ipynb#X35sZmlsZQ%3D%3D?line=5'>6</a>\u001b[0m     \u001b[39mreturn\u001b[39;00m f(n \u001b[39m-\u001b[39;49m \u001b[39m1\u001b[39;49m) \u001b[39m+\u001b[39m f(n \u001b[39m-\u001b[39m \u001b[39m2\u001b[39m)\n",
      "\u001b[1;32m/Users/stuartallen/Documents/Teaching/cm1103/Live session material/Week 7/Week7.ipynb Cell 5\u001b[0m line \u001b[0;36m6\n\u001b[1;32m      <a href='vscode-notebook-cell:/Users/stuartallen/Documents/Teaching/cm1103/Live%20session%20material/Week%207/Week7.ipynb#X35sZmlsZQ%3D%3D?line=3'>4</a>\u001b[0m     \u001b[39mreturn\u001b[39;00m \u001b[39m1\u001b[39m \u001b[39m# Base case\u001b[39;00m\n\u001b[1;32m      <a href='vscode-notebook-cell:/Users/stuartallen/Documents/Teaching/cm1103/Live%20session%20material/Week%207/Week7.ipynb#X35sZmlsZQ%3D%3D?line=4'>5</a>\u001b[0m \u001b[39melse\u001b[39;00m:\n\u001b[0;32m----> <a href='vscode-notebook-cell:/Users/stuartallen/Documents/Teaching/cm1103/Live%20session%20material/Week%207/Week7.ipynb#X35sZmlsZQ%3D%3D?line=5'>6</a>\u001b[0m     \u001b[39mreturn\u001b[39;00m f(n \u001b[39m-\u001b[39;49m \u001b[39m1\u001b[39;49m) \u001b[39m+\u001b[39m f(n \u001b[39m-\u001b[39m \u001b[39m2\u001b[39m)\n",
      "    \u001b[0;31m[... skipping similar frames: f at line 6 (2969 times)]\u001b[0m\n",
      "\u001b[1;32m/Users/stuartallen/Documents/Teaching/cm1103/Live session material/Week 7/Week7.ipynb Cell 5\u001b[0m line \u001b[0;36m6\n\u001b[1;32m      <a href='vscode-notebook-cell:/Users/stuartallen/Documents/Teaching/cm1103/Live%20session%20material/Week%207/Week7.ipynb#X35sZmlsZQ%3D%3D?line=3'>4</a>\u001b[0m     \u001b[39mreturn\u001b[39;00m \u001b[39m1\u001b[39m \u001b[39m# Base case\u001b[39;00m\n\u001b[1;32m      <a href='vscode-notebook-cell:/Users/stuartallen/Documents/Teaching/cm1103/Live%20session%20material/Week%207/Week7.ipynb#X35sZmlsZQ%3D%3D?line=4'>5</a>\u001b[0m \u001b[39melse\u001b[39;00m:\n\u001b[0;32m----> <a href='vscode-notebook-cell:/Users/stuartallen/Documents/Teaching/cm1103/Live%20session%20material/Week%207/Week7.ipynb#X35sZmlsZQ%3D%3D?line=5'>6</a>\u001b[0m     \u001b[39mreturn\u001b[39;00m f(n \u001b[39m-\u001b[39;49m \u001b[39m1\u001b[39;49m) \u001b[39m+\u001b[39m f(n \u001b[39m-\u001b[39m \u001b[39m2\u001b[39m)\n",
      "\u001b[1;32m/Users/stuartallen/Documents/Teaching/cm1103/Live session material/Week 7/Week7.ipynb Cell 5\u001b[0m line \u001b[0;36m3\n\u001b[1;32m      <a href='vscode-notebook-cell:/Users/stuartallen/Documents/Teaching/cm1103/Live%20session%20material/Week%207/Week7.ipynb#X35sZmlsZQ%3D%3D?line=1'>2</a>\u001b[0m \u001b[39mdef\u001b[39;00m \u001b[39mf\u001b[39m(n):\n\u001b[0;32m----> <a href='vscode-notebook-cell:/Users/stuartallen/Documents/Teaching/cm1103/Live%20session%20material/Week%207/Week7.ipynb#X35sZmlsZQ%3D%3D?line=2'>3</a>\u001b[0m     \u001b[39mif\u001b[39;00m n \u001b[39m==\u001b[39;49m \u001b[39m1\u001b[39;49m \u001b[39mor\u001b[39;00m n \u001b[39m==\u001b[39m \u001b[39m2\u001b[39m:\n\u001b[1;32m      <a href='vscode-notebook-cell:/Users/stuartallen/Documents/Teaching/cm1103/Live%20session%20material/Week%207/Week7.ipynb#X35sZmlsZQ%3D%3D?line=3'>4</a>\u001b[0m         \u001b[39mreturn\u001b[39;00m \u001b[39m1\u001b[39m \u001b[39m# Base case\u001b[39;00m\n\u001b[1;32m      <a href='vscode-notebook-cell:/Users/stuartallen/Documents/Teaching/cm1103/Live%20session%20material/Week%207/Week7.ipynb#X35sZmlsZQ%3D%3D?line=4'>5</a>\u001b[0m     \u001b[39melse\u001b[39;00m:\n",
      "\u001b[0;31mRecursionError\u001b[0m: maximum recursion depth exceeded in comparison"
     ]
    }
   ],
   "source": [
    "f(0)"
   ]
  },
  {
   "cell_type": "code",
   "execution_count": 9,
   "metadata": {},
   "outputs": [],
   "source": [
    "def f(n):\n",
    "    if n == 1 or n == 2:\n",
    "        return 1\n",
    "    else:\n",
    "        print(f(n - 1) + f(n - 2))"
   ]
  },
  {
   "cell_type": "code",
   "execution_count": 10,
   "metadata": {},
   "outputs": [
    {
     "name": "stdout",
     "output_type": "stream",
     "text": [
      "2\n"
     ]
    },
    {
     "ename": "TypeError",
     "evalue": "unsupported operand type(s) for +: 'NoneType' and 'int'",
     "output_type": "error",
     "traceback": [
      "\u001b[0;31m---------------------------------------------------------------------------\u001b[0m",
      "\u001b[0;31mTypeError\u001b[0m                                 Traceback (most recent call last)",
      "\u001b[1;32m/Users/stuartallen/Documents/Teaching/cm1103/Live session material/Week 7/Week7.ipynb Cell 7\u001b[0m line \u001b[0;36m1\n\u001b[0;32m----> <a href='vscode-notebook-cell:/Users/stuartallen/Documents/Teaching/cm1103/Live%20session%20material/Week%207/Week7.ipynb#X40sZmlsZQ%3D%3D?line=0'>1</a>\u001b[0m f(\u001b[39m4\u001b[39;49m)\n",
      "\u001b[1;32m/Users/stuartallen/Documents/Teaching/cm1103/Live session material/Week 7/Week7.ipynb Cell 7\u001b[0m line \u001b[0;36m5\n\u001b[1;32m      <a href='vscode-notebook-cell:/Users/stuartallen/Documents/Teaching/cm1103/Live%20session%20material/Week%207/Week7.ipynb#X40sZmlsZQ%3D%3D?line=2'>3</a>\u001b[0m     \u001b[39mreturn\u001b[39;00m \u001b[39m1\u001b[39m\n\u001b[1;32m      <a href='vscode-notebook-cell:/Users/stuartallen/Documents/Teaching/cm1103/Live%20session%20material/Week%207/Week7.ipynb#X40sZmlsZQ%3D%3D?line=3'>4</a>\u001b[0m \u001b[39melse\u001b[39;00m:\n\u001b[0;32m----> <a href='vscode-notebook-cell:/Users/stuartallen/Documents/Teaching/cm1103/Live%20session%20material/Week%207/Week7.ipynb#X40sZmlsZQ%3D%3D?line=4'>5</a>\u001b[0m     \u001b[39mprint\u001b[39m(f(n \u001b[39m-\u001b[39;49m \u001b[39m1\u001b[39;49m) \u001b[39m+\u001b[39;49m f(n \u001b[39m-\u001b[39;49m \u001b[39m2\u001b[39;49m))\n",
      "\u001b[0;31mTypeError\u001b[0m: unsupported operand type(s) for +: 'NoneType' and 'int'"
     ]
    }
   ],
   "source": [
    "f(4)"
   ]
  },
  {
   "cell_type": "markdown",
   "metadata": {},
   "source": [
    "1. Suppose each pair of adult rabbits produces 2 pairs of immature rabbits each month instead of 1 pair - how does the formulation change?\n",
    "\n",
    "2. Suppose a pair of mayflies produce no offspring in their first month alive, then 2 pairs of offspring in each of the 2nd and 3rd months of their life, before dying after month 3. Can you model the number of mayflies in each month [Hint: you may need two formulas - one for immature pairs, and one for mature pairs.]"
   ]
  },
  {
   "cell_type": "markdown",
   "metadata": {},
   "source": [
    "1. In the video, we used the recursive Fibonacci function (f(n)) to print out the first 20 numbers. What happens if you try to print the first 30 (or 40, 50) Fibonacci numbers using this function?\n"
   ]
  },
  {
   "cell_type": "code",
   "execution_count": 12,
   "metadata": {},
   "outputs": [],
   "source": [
    "# Calculate nth Fibonacci number using recursion\n",
    "def f(n):\n",
    "    if n == 1 or n == 2:\n",
    "        return 1 # Base case\n",
    "    else:\n",
    "        return f(n - 1) + f(n - 2)  # Recursive step"
   ]
  },
  {
   "cell_type": "code",
   "execution_count": 16,
   "metadata": {},
   "outputs": [
    {
     "name": "stdout",
     "output_type": "stream",
     "text": [
      "1\n",
      "1\n",
      "2\n",
      "3\n",
      "5\n",
      "8\n",
      "13\n",
      "21\n",
      "34\n",
      "55\n",
      "89\n",
      "144\n",
      "233\n",
      "377\n",
      "610\n",
      "987\n",
      "1597\n",
      "2584\n",
      "4181\n",
      "6765\n",
      "10946\n",
      "17711\n",
      "28657\n",
      "46368\n",
      "75025\n",
      "121393\n",
      "196418\n",
      "317811\n",
      "514229\n",
      "832040\n",
      "1346269\n",
      "2178309\n",
      "3524578\n",
      "5702887\n",
      "9227465\n",
      "14930352\n",
      "24157817\n",
      "39088169\n",
      "63245986\n"
     ]
    },
    {
     "ename": "KeyboardInterrupt",
     "evalue": "",
     "output_type": "error",
     "traceback": [
      "\u001b[0;31m---------------------------------------------------------------------------\u001b[0m",
      "\u001b[0;31mKeyboardInterrupt\u001b[0m                         Traceback (most recent call last)",
      "\u001b[1;32m/Users/stuartallen/Documents/Teaching/cm1103/Live session material/Week 7/Week7.ipynb Cell 11\u001b[0m line \u001b[0;36m2\n\u001b[1;32m      <a href='vscode-notebook-cell:/Users/stuartallen/Documents/Teaching/cm1103/Live%20session%20material/Week%207/Week7.ipynb#W1sZmlsZQ%3D%3D?line=0'>1</a>\u001b[0m \u001b[39mfor\u001b[39;00m i \u001b[39min\u001b[39;00m \u001b[39mrange\u001b[39m(\u001b[39m1\u001b[39m, \u001b[39m41\u001b[39m):\n\u001b[0;32m----> <a href='vscode-notebook-cell:/Users/stuartallen/Documents/Teaching/cm1103/Live%20session%20material/Week%207/Week7.ipynb#W1sZmlsZQ%3D%3D?line=1'>2</a>\u001b[0m     \u001b[39mprint\u001b[39m(f(i))\n",
      "\u001b[1;32m/Users/stuartallen/Documents/Teaching/cm1103/Live session material/Week 7/Week7.ipynb Cell 11\u001b[0m line \u001b[0;36m6\n\u001b[1;32m      <a href='vscode-notebook-cell:/Users/stuartallen/Documents/Teaching/cm1103/Live%20session%20material/Week%207/Week7.ipynb#W1sZmlsZQ%3D%3D?line=3'>4</a>\u001b[0m     \u001b[39mreturn\u001b[39;00m \u001b[39m1\u001b[39m \u001b[39m# Base case\u001b[39;00m\n\u001b[1;32m      <a href='vscode-notebook-cell:/Users/stuartallen/Documents/Teaching/cm1103/Live%20session%20material/Week%207/Week7.ipynb#W1sZmlsZQ%3D%3D?line=4'>5</a>\u001b[0m \u001b[39melse\u001b[39;00m:\n\u001b[0;32m----> <a href='vscode-notebook-cell:/Users/stuartallen/Documents/Teaching/cm1103/Live%20session%20material/Week%207/Week7.ipynb#W1sZmlsZQ%3D%3D?line=5'>6</a>\u001b[0m     \u001b[39mreturn\u001b[39;00m f(n \u001b[39m-\u001b[39;49m \u001b[39m1\u001b[39;49m) \u001b[39m+\u001b[39m f(n \u001b[39m-\u001b[39m \u001b[39m2\u001b[39m)\n",
      "\u001b[1;32m/Users/stuartallen/Documents/Teaching/cm1103/Live session material/Week 7/Week7.ipynb Cell 11\u001b[0m line \u001b[0;36m6\n\u001b[1;32m      <a href='vscode-notebook-cell:/Users/stuartallen/Documents/Teaching/cm1103/Live%20session%20material/Week%207/Week7.ipynb#W1sZmlsZQ%3D%3D?line=3'>4</a>\u001b[0m     \u001b[39mreturn\u001b[39;00m \u001b[39m1\u001b[39m \u001b[39m# Base case\u001b[39;00m\n\u001b[1;32m      <a href='vscode-notebook-cell:/Users/stuartallen/Documents/Teaching/cm1103/Live%20session%20material/Week%207/Week7.ipynb#W1sZmlsZQ%3D%3D?line=4'>5</a>\u001b[0m \u001b[39melse\u001b[39;00m:\n\u001b[0;32m----> <a href='vscode-notebook-cell:/Users/stuartallen/Documents/Teaching/cm1103/Live%20session%20material/Week%207/Week7.ipynb#W1sZmlsZQ%3D%3D?line=5'>6</a>\u001b[0m     \u001b[39mreturn\u001b[39;00m f(n \u001b[39m-\u001b[39;49m \u001b[39m1\u001b[39;49m) \u001b[39m+\u001b[39m f(n \u001b[39m-\u001b[39m \u001b[39m2\u001b[39m)\n",
      "    \u001b[0;31m[... skipping similar frames: f at line 6 (23 times)]\u001b[0m\n",
      "\u001b[1;32m/Users/stuartallen/Documents/Teaching/cm1103/Live session material/Week 7/Week7.ipynb Cell 11\u001b[0m line \u001b[0;36m6\n\u001b[1;32m      <a href='vscode-notebook-cell:/Users/stuartallen/Documents/Teaching/cm1103/Live%20session%20material/Week%207/Week7.ipynb#W1sZmlsZQ%3D%3D?line=3'>4</a>\u001b[0m     \u001b[39mreturn\u001b[39;00m \u001b[39m1\u001b[39m \u001b[39m# Base case\u001b[39;00m\n\u001b[1;32m      <a href='vscode-notebook-cell:/Users/stuartallen/Documents/Teaching/cm1103/Live%20session%20material/Week%207/Week7.ipynb#W1sZmlsZQ%3D%3D?line=4'>5</a>\u001b[0m \u001b[39melse\u001b[39;00m:\n\u001b[0;32m----> <a href='vscode-notebook-cell:/Users/stuartallen/Documents/Teaching/cm1103/Live%20session%20material/Week%207/Week7.ipynb#W1sZmlsZQ%3D%3D?line=5'>6</a>\u001b[0m     \u001b[39mreturn\u001b[39;00m f(n \u001b[39m-\u001b[39m \u001b[39m1\u001b[39m) \u001b[39m+\u001b[39m f(n \u001b[39m-\u001b[39;49m \u001b[39m2\u001b[39;49m)\n",
      "\u001b[1;32m/Users/stuartallen/Documents/Teaching/cm1103/Live session material/Week 7/Week7.ipynb Cell 11\u001b[0m line \u001b[0;36m2\n\u001b[1;32m      <a href='vscode-notebook-cell:/Users/stuartallen/Documents/Teaching/cm1103/Live%20session%20material/Week%207/Week7.ipynb#W1sZmlsZQ%3D%3D?line=0'>1</a>\u001b[0m \u001b[39m# Calculate nth Fibonacci number using recursion\u001b[39;00m\n\u001b[0;32m----> <a href='vscode-notebook-cell:/Users/stuartallen/Documents/Teaching/cm1103/Live%20session%20material/Week%207/Week7.ipynb#W1sZmlsZQ%3D%3D?line=1'>2</a>\u001b[0m \u001b[39mdef\u001b[39;00m \u001b[39mf\u001b[39m(n):\n\u001b[1;32m      <a href='vscode-notebook-cell:/Users/stuartallen/Documents/Teaching/cm1103/Live%20session%20material/Week%207/Week7.ipynb#W1sZmlsZQ%3D%3D?line=2'>3</a>\u001b[0m     \u001b[39mif\u001b[39;00m n \u001b[39m==\u001b[39m \u001b[39m1\u001b[39m \u001b[39mor\u001b[39;00m n \u001b[39m==\u001b[39m \u001b[39m2\u001b[39m:\n\u001b[1;32m      <a href='vscode-notebook-cell:/Users/stuartallen/Documents/Teaching/cm1103/Live%20session%20material/Week%207/Week7.ipynb#W1sZmlsZQ%3D%3D?line=3'>4</a>\u001b[0m         \u001b[39mreturn\u001b[39;00m \u001b[39m1\u001b[39m \u001b[39m# Base case\u001b[39;00m\n",
      "\u001b[0;31mKeyboardInterrupt\u001b[0m: "
     ]
    }
   ],
   "source": [
    "for i in range(1, 41):\n",
    "    print(f(i))"
   ]
  },
  {
   "cell_type": "markdown",
   "metadata": {},
   "source": [
    "2. Do you see the same behaviour with the recursive factorial function? "
   ]
  },
  {
   "cell_type": "code",
   "execution_count": 17,
   "metadata": {},
   "outputs": [],
   "source": [
    "# Implement factorial using recursion\n",
    "def factorial(n):\n",
    "    if n == 0: # Base case\n",
    "        return 1\n",
    "    else:\n",
    "        return n * factorial(n - 1) # Recursive"
   ]
  },
  {
   "cell_type": "code",
   "execution_count": 20,
   "metadata": {},
   "outputs": [
    {
     "name": "stdout",
     "output_type": "stream",
     "text": [
      "1\n",
      "2\n",
      "6\n",
      "24\n",
      "120\n",
      "720\n",
      "5040\n",
      "40320\n",
      "362880\n",
      "3628800\n",
      "39916800\n",
      "479001600\n",
      "6227020800\n",
      "87178291200\n",
      "1307674368000\n",
      "20922789888000\n",
      "355687428096000\n",
      "6402373705728000\n",
      "121645100408832000\n",
      "2432902008176640000\n",
      "51090942171709440000\n",
      "1124000727777607680000\n",
      "25852016738884976640000\n",
      "620448401733239439360000\n",
      "15511210043330985984000000\n",
      "403291461126605635584000000\n",
      "10888869450418352160768000000\n",
      "304888344611713860501504000000\n",
      "8841761993739701954543616000000\n",
      "265252859812191058636308480000000\n",
      "8222838654177922817725562880000000\n",
      "263130836933693530167218012160000000\n",
      "8683317618811886495518194401280000000\n",
      "295232799039604140847618609643520000000\n",
      "10333147966386144929666651337523200000000\n",
      "371993326789901217467999448150835200000000\n",
      "13763753091226345046315979581580902400000000\n",
      "523022617466601111760007224100074291200000000\n",
      "20397882081197443358640281739902897356800000000\n",
      "815915283247897734345611269596115894272000000000\n",
      "33452526613163807108170062053440751665152000000000\n",
      "1405006117752879898543142606244511569936384000000000\n",
      "60415263063373835637355132068513997507264512000000000\n",
      "2658271574788448768043625811014615890319638528000000000\n",
      "119622220865480194561963161495657715064383733760000000000\n",
      "5502622159812088949850305428800254892961651752960000000000\n",
      "258623241511168180642964355153611979969197632389120000000000\n",
      "12413915592536072670862289047373375038521486354677760000000000\n",
      "608281864034267560872252163321295376887552831379210240000000000\n",
      "30414093201713378043612608166064768844377641568960512000000000000\n"
     ]
    }
   ],
   "source": [
    "for i in range(1, 51):\n",
    "    print(factorial(i))"
   ]
  },
  {
   "cell_type": "markdown",
   "metadata": {},
   "source": [
    "Can you explain any differences?"
   ]
  },
  {
   "cell_type": "code",
   "execution_count": 21,
   "metadata": {},
   "outputs": [],
   "source": [
    "# Fibonacci using recursion with debug output\n",
    "def ff(n):\n",
    "    print(f\"ff({n}) called\")\n",
    "    if n == 1 or n == 2:\n",
    "        print(f\"Base case: n={n}\")\n",
    "        return 1\n",
    "    else:\n",
    "        result = ff(n - 1) + ff(n - 2)\n",
    "        print(f\"ff({n}) returns {result}\")\n",
    "        return result"
   ]
  },
  {
   "cell_type": "code",
   "execution_count": 24,
   "metadata": {},
   "outputs": [
    {
     "name": "stdout",
     "output_type": "stream",
     "text": [
      "ff(10) called\n",
      "ff(9) called\n",
      "ff(8) called\n",
      "ff(7) called\n",
      "ff(6) called\n",
      "ff(5) called\n",
      "ff(4) called\n",
      "ff(3) called\n",
      "ff(2) called\n",
      "Base case: n=2\n",
      "ff(1) called\n",
      "Base case: n=1\n",
      "ff(3) returns 2\n",
      "ff(2) called\n",
      "Base case: n=2\n",
      "ff(4) returns 3\n",
      "ff(3) called\n",
      "ff(2) called\n",
      "Base case: n=2\n",
      "ff(1) called\n",
      "Base case: n=1\n",
      "ff(3) returns 2\n",
      "ff(5) returns 5\n",
      "ff(4) called\n",
      "ff(3) called\n",
      "ff(2) called\n",
      "Base case: n=2\n",
      "ff(1) called\n",
      "Base case: n=1\n",
      "ff(3) returns 2\n",
      "ff(2) called\n",
      "Base case: n=2\n",
      "ff(4) returns 3\n",
      "ff(6) returns 8\n",
      "ff(5) called\n",
      "ff(4) called\n",
      "ff(3) called\n",
      "ff(2) called\n",
      "Base case: n=2\n",
      "ff(1) called\n",
      "Base case: n=1\n",
      "ff(3) returns 2\n",
      "ff(2) called\n",
      "Base case: n=2\n",
      "ff(4) returns 3\n",
      "ff(3) called\n",
      "ff(2) called\n",
      "Base case: n=2\n",
      "ff(1) called\n",
      "Base case: n=1\n",
      "ff(3) returns 2\n",
      "ff(5) returns 5\n",
      "ff(7) returns 13\n",
      "ff(6) called\n",
      "ff(5) called\n",
      "ff(4) called\n",
      "ff(3) called\n",
      "ff(2) called\n",
      "Base case: n=2\n",
      "ff(1) called\n",
      "Base case: n=1\n",
      "ff(3) returns 2\n",
      "ff(2) called\n",
      "Base case: n=2\n",
      "ff(4) returns 3\n",
      "ff(3) called\n",
      "ff(2) called\n",
      "Base case: n=2\n",
      "ff(1) called\n",
      "Base case: n=1\n",
      "ff(3) returns 2\n",
      "ff(5) returns 5\n",
      "ff(4) called\n",
      "ff(3) called\n",
      "ff(2) called\n",
      "Base case: n=2\n",
      "ff(1) called\n",
      "Base case: n=1\n",
      "ff(3) returns 2\n",
      "ff(2) called\n",
      "Base case: n=2\n",
      "ff(4) returns 3\n",
      "ff(6) returns 8\n",
      "ff(8) returns 21\n",
      "ff(7) called\n",
      "ff(6) called\n",
      "ff(5) called\n",
      "ff(4) called\n",
      "ff(3) called\n",
      "ff(2) called\n",
      "Base case: n=2\n",
      "ff(1) called\n",
      "Base case: n=1\n",
      "ff(3) returns 2\n",
      "ff(2) called\n",
      "Base case: n=2\n",
      "ff(4) returns 3\n",
      "ff(3) called\n",
      "ff(2) called\n",
      "Base case: n=2\n",
      "ff(1) called\n",
      "Base case: n=1\n",
      "ff(3) returns 2\n",
      "ff(5) returns 5\n",
      "ff(4) called\n",
      "ff(3) called\n",
      "ff(2) called\n",
      "Base case: n=2\n",
      "ff(1) called\n",
      "Base case: n=1\n",
      "ff(3) returns 2\n",
      "ff(2) called\n",
      "Base case: n=2\n",
      "ff(4) returns 3\n",
      "ff(6) returns 8\n",
      "ff(5) called\n",
      "ff(4) called\n",
      "ff(3) called\n",
      "ff(2) called\n",
      "Base case: n=2\n",
      "ff(1) called\n",
      "Base case: n=1\n",
      "ff(3) returns 2\n",
      "ff(2) called\n",
      "Base case: n=2\n",
      "ff(4) returns 3\n",
      "ff(3) called\n",
      "ff(2) called\n",
      "Base case: n=2\n",
      "ff(1) called\n",
      "Base case: n=1\n",
      "ff(3) returns 2\n",
      "ff(5) returns 5\n",
      "ff(7) returns 13\n",
      "ff(9) returns 34\n",
      "ff(8) called\n",
      "ff(7) called\n",
      "ff(6) called\n",
      "ff(5) called\n",
      "ff(4) called\n",
      "ff(3) called\n",
      "ff(2) called\n",
      "Base case: n=2\n",
      "ff(1) called\n",
      "Base case: n=1\n",
      "ff(3) returns 2\n",
      "ff(2) called\n",
      "Base case: n=2\n",
      "ff(4) returns 3\n",
      "ff(3) called\n",
      "ff(2) called\n",
      "Base case: n=2\n",
      "ff(1) called\n",
      "Base case: n=1\n",
      "ff(3) returns 2\n",
      "ff(5) returns 5\n",
      "ff(4) called\n",
      "ff(3) called\n",
      "ff(2) called\n",
      "Base case: n=2\n",
      "ff(1) called\n",
      "Base case: n=1\n",
      "ff(3) returns 2\n",
      "ff(2) called\n",
      "Base case: n=2\n",
      "ff(4) returns 3\n",
      "ff(6) returns 8\n",
      "ff(5) called\n",
      "ff(4) called\n",
      "ff(3) called\n",
      "ff(2) called\n",
      "Base case: n=2\n",
      "ff(1) called\n",
      "Base case: n=1\n",
      "ff(3) returns 2\n",
      "ff(2) called\n",
      "Base case: n=2\n",
      "ff(4) returns 3\n",
      "ff(3) called\n",
      "ff(2) called\n",
      "Base case: n=2\n",
      "ff(1) called\n",
      "Base case: n=1\n",
      "ff(3) returns 2\n",
      "ff(5) returns 5\n",
      "ff(7) returns 13\n",
      "ff(6) called\n",
      "ff(5) called\n",
      "ff(4) called\n",
      "ff(3) called\n",
      "ff(2) called\n",
      "Base case: n=2\n",
      "ff(1) called\n",
      "Base case: n=1\n",
      "ff(3) returns 2\n",
      "ff(2) called\n",
      "Base case: n=2\n",
      "ff(4) returns 3\n",
      "ff(3) called\n",
      "ff(2) called\n",
      "Base case: n=2\n",
      "ff(1) called\n",
      "Base case: n=1\n",
      "ff(3) returns 2\n",
      "ff(5) returns 5\n",
      "ff(4) called\n",
      "ff(3) called\n",
      "ff(2) called\n",
      "Base case: n=2\n",
      "ff(1) called\n",
      "Base case: n=1\n",
      "ff(3) returns 2\n",
      "ff(2) called\n",
      "Base case: n=2\n",
      "ff(4) returns 3\n",
      "ff(6) returns 8\n",
      "ff(8) returns 21\n",
      "ff(10) returns 55\n"
     ]
    },
    {
     "data": {
      "text/plain": [
       "55"
      ]
     },
     "execution_count": 24,
     "metadata": {},
     "output_type": "execute_result"
    }
   ],
   "source": [
    "ff(10)"
   ]
  },
  {
   "cell_type": "markdown",
   "metadata": {},
   "source": [
    "Why is Fibonacci by recursion so slow?"
   ]
  },
  {
   "cell_type": "code",
   "execution_count": null,
   "metadata": {},
   "outputs": [],
   "source": [
    "# Install https://rich.readthedocs.io/en/stable/index.html\n",
    "from rich.tree import Tree\n",
    "from rich import print\n",
    "\n",
    "\n",
    "# Calculate nth Fibonacci number using recursion\n",
    "def f(n, t):\n",
    "    branch = t.add(f\"Calling fibonacci({n})\")\n",
    "    if n == 1 or n == 2:\n",
    "        branch.add(f\"Returning 1\")\n",
    "        return 1, branch # Base case\n",
    "    else:\n",
    "        result = f(n - 1, branch)[0] + f(n - 2, branch)[0]\n",
    "        branch.add(f\"Returning {result}\")\n",
    "        return result, branch  # Recursive step\n",
    "   \n",
    "\n",
    "def fibonacci(n):\n",
    "    tree = Tree(f\"fibonacci({n})\")\n",
    "    r, t = f(n, tree)\n",
    "    print(t)"
   ]
  },
  {
   "cell_type": "code",
   "execution_count": null,
   "metadata": {},
   "outputs": [],
   "source": []
  },
  {
   "cell_type": "markdown",
   "metadata": {},
   "source": [
    "We can also implement a function to calculate the Fibonacci sequence using iteration"
   ]
  },
  {
   "cell_type": "code",
   "execution_count": null,
   "metadata": {},
   "outputs": [],
   "source": []
  },
  {
   "cell_type": "markdown",
   "metadata": {},
   "source": [
    "Try to implement a function h(n) to calculate the nth Fibonacci number using the analytical formula from the video."
   ]
  },
  {
   "cell_type": "code",
   "execution_count": null,
   "metadata": {},
   "outputs": [],
   "source": []
  },
  {
   "cell_type": "markdown",
   "metadata": {},
   "source": [
    "When should we use recursion?\n",
    "\n"
   ]
  },
  {
   "cell_type": "code",
   "execution_count": null,
   "metadata": {},
   "outputs": [],
   "source": []
  },
  {
   "cell_type": "code",
   "execution_count": null,
   "metadata": {},
   "outputs": [],
   "source": []
  },
  {
   "cell_type": "markdown",
   "metadata": {},
   "source": [
    "Can you prove by induction that the sum of the first n positive integers (1+2+3+...+n) is equal to n(n+1)/2?\n"
   ]
  }
 ],
 "metadata": {
  "kernelspec": {
   "display_name": "Python 3",
   "language": "python",
   "name": "python3"
  },
  "language_info": {
   "codemirror_mode": {
    "name": "ipython",
    "version": 3
   },
   "file_extension": ".py",
   "mimetype": "text/x-python",
   "name": "python",
   "nbconvert_exporter": "python",
   "pygments_lexer": "ipython3",
   "version": "3.9.15"
  }
 },
 "nbformat": 4,
 "nbformat_minor": 4
}
