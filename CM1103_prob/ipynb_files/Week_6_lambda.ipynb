{
 "cells": [
  {
   "cell_type": "markdown",
   "metadata": {},
   "source": [
    "# CM1103 Lab worksheet week 6\n",
    "\n",
    "Questions marked **\\[StackOverflow\\]** will also be posted on the COMSC\n",
    "StackOverflow site:\\\n",
    "\n",
    "<https://stackoverflow.com/c/comsc/questions/tagged/14>\n",
    "\n",
    "You are encouraged to post, discuss and upvote your solutions. Try to\n",
    "solve the problems in different ways and experiment with different\n",
    "language features, and discuss their advantages/disadvantages. For\n",
    "example, could you answer the question without using loops, using only\n",
    "one line of code, etc."
   ]
  },
  {
   "cell_type": "markdown",
   "metadata": {},
   "source": [
    "## Lists *\\[Think Python Version 2 - Sections 10.1--10.6, 10.8\\]*"
   ]
  },
  {
   "cell_type": "markdown",
   "metadata": {},
   "source": [
    "1.  Write Python statements that achieve the following (in order):\n",
    "\n",
    "    a.  Create a list containing the strings `\"football\"`, `\"rugby\"`,\n",
    "        `\"hockey\"` and `\"tennis\"`.\n",
    "\n",
    "    b.  Print the first and last elements of the list\n",
    "\n",
    "    c.  Add the element `\"cycling\"` to the end of the list.\n",
    "\n",
    "    d.  Print how many elements the list has.\n",
    "\n",
    "    e.  Print the first letter of each element of the list\n",
    "\n",
    "    f.  Remove the element `\"football\"`.\n",
    "\n",
    "    g.  Create a new list containing only the middle 2 elements of the\n",
    "        current list."
   ]
  },
  {
   "cell_type": "code",
   "execution_count": null,
   "metadata": {},
   "outputs": [],
   "source": []
  },
  {
   "cell_type": "markdown",
   "metadata": {},
   "source": [
    "2.  What is the difference between the functions `pop` and `remove`? Why\n",
    "    does only one produce output? Provide code that creates a list\n",
    "    containing the letters `a,b,c,d,e`, then deletes the 4th element of\n",
    "    the list (remembering that we start indexing lists at element 0),\n",
    "    and finally deletes the element `’a’`."
   ]
  },
  {
   "cell_type": "code",
   "execution_count": 1,
   "metadata": {},
   "outputs": [],
   "source": [
    "x = [1,2,3,4]\n",
    "x.pop(3)\n",
    "x.remove(3)"
   ]
  },
  {
   "cell_type": "markdown",
   "metadata": {},
   "source": [
    "## Lambda expressions\n",
    "\n",
    "The `lambda` keyword is used to define small, anonymous functions. For\n",
    "example, the function:\n",
    "\n",
    "    def square(n):\n",
    "       return n * n\n",
    "\n",
    "could also be defined as a lambda expression:\n",
    "\n",
    "    square = lambda n : n * n"
   ]
  },
  {
   "cell_type": "markdown",
   "metadata": {},
   "source": [
    "3.  Verify that both versions result in the same behaviour."
   ]
  },
  {
   "cell_type": "code",
   "execution_count": null,
   "metadata": {},
   "outputs": [],
   "source": []
  },
  {
   "cell_type": "markdown",
   "metadata": {},
   "source": [
    "Lambda expressions allow for more concise and readable code in some\n",
    "cases. For example, the built in `sorted` function takes an optional\n",
    "argument `key` that allows us to specify how elements should be\n",
    "processed before they are compared."
   ]
  },
  {
   "cell_type": "markdown",
   "metadata": {},
   "source": [
    "4.  What does the following code do?"
   ]
  },
  {
   "cell_type": "code",
   "execution_count": null,
   "metadata": {},
   "outputs": [],
   "source": [
    "a = [2, -6, -5, 3, 9]\n",
    "sorted(a)\n",
    "sorted(a, key=lambda x : -x)\n",
    "sorted(a, key=lambda x : abs(x))\n",
    "sorted(a, key=lambda x : x % 2)\n",
    "sorted(a, key=lambda x : (x % 2, x))"
   ]
  },
  {
   "cell_type": "markdown",
   "metadata": {},
   "source": [
    "5.  Given the list:\n",
    "\n",
    "            a = [\"tim\", \"bob\", \"trevor\", \"susan\", \"anna\"]\n",
    "\n",
    "    use the `sorted` function with an appropriate lambda expression to\n",
    "    sort `a` by:\n",
    "\n",
    "     a.  The first letter of each name;"
   ]
  },
  {
   "cell_type": "code",
   "execution_count": null,
   "metadata": {},
   "outputs": [],
   "source": [
    "a = [\"tim\", \"bob\", \"trevor\", \"susan\", \"anna\"]"
   ]
  },
  {
   "cell_type": "markdown",
   "metadata": {},
   "source": [
    "b. The second letter of each name;"
   ]
  },
  {
   "cell_type": "code",
   "execution_count": null,
   "metadata": {},
   "outputs": [],
   "source": []
  },
  {
   "cell_type": "markdown",
   "metadata": {},
   "source": [
    "c. The last letter of each name;"
   ]
  },
  {
   "cell_type": "code",
   "execution_count": null,
   "metadata": {},
   "outputs": [],
   "source": []
  },
  {
   "cell_type": "markdown",
   "metadata": {},
   "source": [
    "d. The length of each name;"
   ]
  },
  {
   "cell_type": "code",
   "execution_count": null,
   "metadata": {},
   "outputs": [],
   "source": []
  },
  {
   "cell_type": "markdown",
   "metadata": {},
   "source": [
    "e. The length of each name, with ties decided by alphabetical order;"
   ]
  },
  {
   "cell_type": "code",
   "execution_count": null,
   "metadata": {},
   "outputs": [],
   "source": []
  },
  {
   "cell_type": "markdown",
   "metadata": {},
   "source": [
    "f. All names that don't start with a vowel are listed first, otherwise in alphabetical order."
   ]
  },
  {
   "cell_type": "code",
   "execution_count": null,
   "metadata": {},
   "outputs": [],
   "source": []
  },
  {
   "cell_type": "markdown",
   "metadata": {},
   "source": [
    "## Iteration *\\[Think Python Version 2 - Section 7.3\\]*"
   ]
  },
  {
   "cell_type": "markdown",
   "metadata": {},
   "source": [
    "6. a. Provide code that uses a pair of nested loops to output a 10x10\n",
    "        square of asterisks to the screen. \\[*Hint*: the function call\n",
    "        `print(\"*\")` will output an asterisk followed by a newline, the\n",
    "        function call `print(\"*\", end=\"\")` will output an asterisk with\n",
    "        no newline, and the function call `print()` will output a single\n",
    "        newline.\\]"
   ]
  },
  {
   "cell_type": "code",
   "execution_count": null,
   "metadata": {},
   "outputs": [],
   "source": []
  },
  {
   "cell_type": "markdown",
   "metadata": {},
   "source": [
    "b. Rewrite your code as a\n",
    "        function that outputs an `m` $\\times$ `n` rectangle of asterisks,\n",
    "        where `m` and `n` are passed as arguments."
   ]
  },
  {
   "cell_type": "code",
   "execution_count": null,
   "metadata": {},
   "outputs": [],
   "source": []
  },
  {
   "cell_type": "markdown",
   "metadata": {},
   "source": [
    "7. **\\[StackOverflow\\]** Suppose you\n",
    "    have a number of pallets to be loaded onto a lorry with a weight\n",
    "    limit of 3,000 Kg. Assuming the weights of each pallets (in Kg) are\n",
    "    stored in a list (e.g.\n",
    "    `weights = [ 50, 387, 291, 712, 100, 622, 109, 750, 282]` ), write\n",
    "    a function that uses a `while` loop to consider each pallet in turn.\n",
    "    If it can be added to the lorry without overloading, then print it's\n",
    "    weight to the screen and continue to the next pallet. If it would\n",
    "    overload the lorry, then stop loading and print out the total weight\n",
    "    added so far."
   ]
  },
  {
   "cell_type": "code",
   "execution_count": null,
   "metadata": {},
   "outputs": [],
   "source": []
  },
  {
   "cell_type": "markdown",
   "metadata": {},
   "source": [
    "## Getting input *\\[Think Python Version 2 - Section 5.11\\]*\n",
    "\n",
    "Note that the functions used to get input changed significantly between\n",
    "Python 2 and 3 - be careful if you are using older books."
   ]
  },
  {
   "cell_type": "markdown",
   "metadata": {},
   "source": [
    "8. Write a function that prompts the user to enter length and width\n",
    "    values, and displays an appropriately sized rectangle of asterisks\n",
    "    (using your answer to 6b)."
   ]
  },
  {
   "cell_type": "code",
   "execution_count": null,
   "metadata": {},
   "outputs": [],
   "source": []
  },
  {
   "cell_type": "markdown",
   "metadata": {},
   "source": [
    "## Sets \n",
    "\n",
    "9.  Write Python code that:\n",
    "\n",
    "    a.  Creates the **sets** $A=\\{1,2,3,4\\}$ and $B=\\{3,4,5,6\\}$.\n",
    "\n",
    "    b.  Calculates $A \\cup B$.\n",
    "\n",
    "    c.  Calculates $A \\cap B$.\n",
    "\n",
    "    d.  Calculates $A - B$.\n",
    "\n",
    "    e.  Calculates $(A - B) \\cup (B - A)$.\n",
    "\n",
    "    f.  Calculates $A \\cap A$."
   ]
  },
  {
   "cell_type": "code",
   "execution_count": 3,
   "metadata": {},
   "outputs": [],
   "source": [
    "A = set([1, 2, 3, 4])"
   ]
  },
  {
   "cell_type": "markdown",
   "metadata": {},
   "source": [
    "## Formative assessment \n",
    "\n",
    "The question in this section will help to prepare you for the coursework\n",
    "that will be set in week 9.\n",
    "\n",
    "Try to ensure your code passes all of the doctests.\n",
    "\n",
    "10.  **\\[StackOverflow\\]** Complete the function `sumHighest(a, n)` so\n",
    "    that it calculates and returns the sum of the `n` highest values in\n",
    "    the list `a`. If `n` is less than 0, the answer should be 0; if `n`\n",
    "    is greater than the number of elements in `a`, all should be\n",
    "    included in the sum.\n",
    "\n",
    "For full marks, your function should contain only 2 lines (1 for the\n",
    "    header and 1 for the body), by using *slices* and *built-in\n",
    "    functions*."
   ]
  },
  {
   "cell_type": "code",
   "execution_count": null,
   "metadata": {},
   "outputs": [],
   "source": [
    "\"\"\"\n",
    ">>> sumHighest([1,2,3,4], 2)\n",
    "7\n",
    ">>> sumHighest([1,2,3,4], 4)\n",
    "10\n",
    ">>> sumHighest([1,2,3,4], 0)\n",
    "0\n",
    ">>> sumHighest([], 0)\n",
    "0\n",
    ">>> sumHighest([1,2,3,4], -1)\n",
    "0\n",
    ">>> sumHighest([1,2,3,4], 10)\n",
    "10\n",
    ">>> type(sumHighest([1,2,3,4], 2))\n",
    "<class 'int'>\n",
    "\n",
    "Is the function only 2 lines?\n",
    ">>> import inspect\n",
    ">>> len(inspect.getsourcelines(sumHighest)[0]) == 2\n",
    "True\n",
    "\"\"\"\n",
    "\n",
    "# *** DO NOT CHANGE CODE ABOVE THIS LINE ***\n",
    "# *** DO NOT ADD ANY COMMENTS OF YOUR OWN IN THE SUBMITTED SOLUTION ***\n",
    "\n",
    "def sumHighest(a, n):\n",
    "    # Add code here"
   ]
  },
  {
   "cell_type": "markdown",
   "metadata": {},
   "source": [
    "## Challenge: *Christmas lights*\n",
    "\n",
    "**\\[StackOverflow\\]** I have a string of 50 Christmas lights in a single\n",
    "line, and when they are first plugged in, all of the lights are off. The\n",
    "lights are controlled by a single button, where every time the button is\n",
    "pressed, some of the lights flip their state (i.e. if they are off, they\n",
    "change to on; if they are on, they change to off). The selection of\n",
    "lights which change depends on how many times the button has been\n",
    "pressed so far:\n",
    "\n",
    "-   On the 1st press, the 1st, 2nd, 3rd, 4th, ..., 50th lights\n",
    "    change state;\n",
    "\n",
    "-   On the 2nd press, the 2nd, 4th, 6th, ..., lights change state;\n",
    "\n",
    "-   On the 3rd press, the 3rd, 6th, 9th, ..., lights change state;\n",
    "\n",
    "-   ...\n",
    "\n",
    "-   On the $i$ th press, the lights corresponding to all multiples of $i$\n",
    "    change state.\n",
    "\n",
    "If I plug the lights in and press the button **50 times**, which lights\n",
    "will be on? Write some Python code to find the answer.\n",
    "\n",
    "Add your answer to the relevant question on StackOverflow.\n",
    "\n",
    "\\[*Hint*: After 3 presses, your lights that are on will be:\n",
    "\n",
    "`*—***—***—***—***—***—***—***—***-`\n",
    "\n",
    "\\]"
   ]
  },
  {
   "cell_type": "code",
   "execution_count": null,
   "metadata": {},
   "outputs": [],
   "source": []
  }
 ],
 "metadata": {
  "interpreter": {
   "hash": "f34cedfa7a8dbada448a9b503baaebe99e88b253e50e28307c141e831225dbed"
  },
  "kernelspec": {
   "display_name": "Python 3.9.1 64-bit ('base': conda)",
   "name": "python3"
  },
  "language_info": {
   "codemirror_mode": {
    "name": "ipython",
    "version": 3
   },
   "file_extension": ".py",
   "mimetype": "text/x-python",
   "name": "python",
   "nbconvert_exporter": "python",
   "pygments_lexer": "ipython3",
   "version": "3.9.7"
  },
  "orig_nbformat": 4
 },
 "nbformat": 4,
 "nbformat_minor": 2
}
