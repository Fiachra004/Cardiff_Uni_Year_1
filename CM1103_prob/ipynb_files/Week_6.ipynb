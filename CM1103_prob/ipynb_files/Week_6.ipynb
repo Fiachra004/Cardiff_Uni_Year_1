{
 "cells": [
  {
   "cell_type": "code",
   "execution_count": 10,
   "metadata": {},
   "outputs": [],
   "source": [
    "def bob(x):\n",
    "    x = x * 2\n",
    "    return x\n"
   ]
  },
  {
   "cell_type": "code",
   "execution_count": 11,
   "metadata": {},
   "outputs": [
    {
     "name": "stdout",
     "output_type": "stream",
     "text": [
      "2 4 2\n"
     ]
    }
   ],
   "source": [
    "y = 2\n",
    "print(y, bob(y), y)"
   ]
  },
  {
   "cell_type": "code",
   "execution_count": 13,
   "metadata": {},
   "outputs": [],
   "source": [
    "a = ['👍']"
   ]
  },
  {
   "cell_type": "code",
   "execution_count": 14,
   "metadata": {},
   "outputs": [
    {
     "name": "stdout",
     "output_type": "stream",
     "text": [
      "['👍', '👍']\n"
     ]
    }
   ],
   "source": [
    "print(2 * a)"
   ]
  },
  {
   "cell_type": "code",
   "execution_count": 15,
   "metadata": {},
   "outputs": [
    {
     "name": "stdout",
     "output_type": "stream",
     "text": [
      "['a'] ['a', 'a'] ['a']\n"
     ]
    }
   ],
   "source": [
    "y = ['a']\n",
    "print(y, bob(y), y)"
   ]
  },
  {
   "cell_type": "code",
   "execution_count": null,
   "metadata": {},
   "outputs": [],
   "source": [
    "def bob(x):\n",
    "    x.append(\"A\")\n",
    "    return x"
   ]
  },
  {
   "cell_type": "code",
   "execution_count": null,
   "metadata": {},
   "outputs": [],
   "source": [
    "y = [1, 2]\n",
    "bob(y)\n",
    "print(y)"
   ]
  },
  {
   "cell_type": "markdown",
   "metadata": {},
   "source": [
    "Can for loops in Python loop backwards through a list?"
   ]
  },
  {
   "cell_type": "code",
   "execution_count": 17,
   "metadata": {},
   "outputs": [
    {
     "name": "stdout",
     "output_type": "stream",
     "text": [
      "4\n",
      "2\n"
     ]
    }
   ],
   "source": [
    "a = [1, 2, 3, 4]\n",
    "for n in a[::-2]:\n",
    "    print(n)"
   ]
  },
  {
   "cell_type": "code",
   "execution_count": 7,
   "metadata": {},
   "outputs": [
    {
     "ename": "NameError",
     "evalue": "name 'bob' is not defined",
     "output_type": "error",
     "traceback": [
      "\u001b[1;31m---------------------------------------------------------------------------\u001b[0m",
      "\u001b[1;31mNameError\u001b[0m                                 Traceback (most recent call last)",
      "Cell \u001b[1;32mIn[7], line 2\u001b[0m\n\u001b[0;32m      1\u001b[0m y \u001b[38;5;241m=\u001b[39m [\u001b[38;5;241m1\u001b[39m, \u001b[38;5;241m2\u001b[39m]\n\u001b[1;32m----> 2\u001b[0m \u001b[43mbob\u001b[49m(y[:])\n",
      "\u001b[1;31mNameError\u001b[0m: name 'bob' is not defined"
     ]
    }
   ],
   "source": [
    "y = [1, 2]\n",
    "bob(y[:])"
   ]
  },
  {
   "cell_type": "markdown",
   "metadata": {},
   "source": [
    "3. Consider the following outline of a function for a calculation that is only valid for positive integers. What don't you like about it? \n",
    "\n",
    "```\n",
    "def calculateSomethingHard(n):\n",
    "    if n > 0:\n",
    "        # perform some calculation\n",
    "        return answer\n",
    "    else:\n",
    "        return \"No valid answer\"\n",
    "```"
   ]
  },
  {
   "cell_type": "markdown",
   "metadata": {},
   "source": [
    "Limited error checking\n",
    "Make your functions - always return the same type\n",
    "There are better ways to handle errors"
   ]
  },
  {
   "cell_type": "code",
   "execution_count": 19,
   "metadata": {},
   "outputs": [
    {
     "ename": "AttributeError",
     "evalue": "'int' object has no attribute 'append'",
     "output_type": "error",
     "traceback": [
      "\u001b[0;31m---------------------------------------------------------------------------\u001b[0m",
      "\u001b[0;31mAttributeError\u001b[0m                            Traceback (most recent call last)",
      "\u001b[1;32m/Users/stuartallen/Documents/Teaching/cm1103/Live session material/Week 6/Week_6.ipynb Cell 13\u001b[0m line \u001b[0;36m2\n\u001b[1;32m      <a href='vscode-notebook-cell:/Users/stuartallen/Documents/Teaching/cm1103/Live%20session%20material/Week%206/Week_6.ipynb#X60sZmlsZQ%3D%3D?line=0'>1</a>\u001b[0m y \u001b[39m=\u001b[39m \u001b[39m2\u001b[39m\n\u001b[0;32m----> <a href='vscode-notebook-cell:/Users/stuartallen/Documents/Teaching/cm1103/Live%20session%20material/Week%206/Week_6.ipynb#X60sZmlsZQ%3D%3D?line=1'>2</a>\u001b[0m y\u001b[39m.\u001b[39;49mappend(\u001b[39m\"\u001b[39m\u001b[39mbob\u001b[39m\u001b[39m\"\u001b[39m)\n",
      "\u001b[0;31mAttributeError\u001b[0m: 'int' object has no attribute 'append'"
     ]
    }
   ],
   "source": [
    "y = 2\n",
    "y.append(\"bob\")"
   ]
  },
  {
   "cell_type": "code",
   "execution_count": 20,
   "metadata": {},
   "outputs": [],
   "source": [
    "import datetime\n",
    "\n",
    "\n",
    "def Easter(y):\n",
    "\n",
    "    \"\"\"\n",
    "    >>> print(Easter(2017))\n",
    "    2017-04-16\n",
    "    >>> print(Easter(823))\n",
    "    0823-04-09\n",
    "    \"\"\"\n",
    "    a = y % 19\n",
    "    b = y // 100\n",
    "    c = y % 100\n",
    "    d = b // 4\n",
    "    e = b % 4\n",
    "    g = (8 * b + 13) // 25\n",
    "    h = (19 * a + b - d - g + 15) % 30\n",
    "    j = c // 4\n",
    "    k = c % 4\n",
    "    m = (a + 11 * h) // 319\n",
    "    r = (2 * e + 2 * j - k - h + m + 32) % 7\n",
    "    n = (h - m + r + 90) // 25\n",
    "    p = (h - m + r + n + 19) % 32\n",
    "    return datetime.date(y, n, p)\n"
   ]
  },
  {
   "cell_type": "markdown",
   "metadata": {},
   "source": [
    "How do we call functions from other files?"
   ]
  },
  {
   "cell_type": "code",
   "execution_count": 21,
   "metadata": {},
   "outputs": [],
   "source": [
    "import ImportantDates"
   ]
  },
  {
   "cell_type": "code",
   "execution_count": 22,
   "metadata": {},
   "outputs": [
    {
     "data": {
      "text/plain": [
       "datetime.date(2025, 4, 20)"
      ]
     },
     "execution_count": 22,
     "metadata": {},
     "output_type": "execute_result"
    }
   ],
   "source": [
    "ImportantDates.Easter(2025)"
   ]
  },
  {
   "cell_type": "markdown",
   "metadata": {},
   "source": [
    "<img src=\"./Lecture_Easter_3.png\" alt=\"Slide 3\" style=\"width: 600px;\"/>"
   ]
  },
  {
   "cell_type": "code",
   "execution_count": 43,
   "metadata": {},
   "outputs": [],
   "source": [
    "# Add default parameters\n",
    "def proportion_march_Easter(from_year=1, to_year=5001):\n",
    "    count = 0\n",
    "    for year in range(from_year, to_year):\n",
    "        if ImportantDates.Easter(year).month == 3:\n",
    "            count = count + 1\n",
    "    return count / (to_year - from_year)\n",
    "    "
   ]
  },
  {
   "cell_type": "code",
   "execution_count": 28,
   "metadata": {},
   "outputs": [
    {
     "name": "stdout",
     "output_type": "stream",
     "text": [
      "['/Users/stuartallen/Documents/Teaching/cm1103/Live session material/Week 6', '/Users/stuartallen/miniforge3/lib/python39.zip', '/Users/stuartallen/miniforge3/lib/python3.9', '/Users/stuartallen/miniforge3/lib/python3.9/lib-dynload', '', '/Users/stuartallen/miniforge3/lib/python3.9/site-packages', '/Users/stuartallen/miniforge3/lib/python3.9/site-packages/mccabe-0.6.1-py3.9.egg']\n"
     ]
    }
   ],
   "source": [
    "import sys\n",
    "print(sys.path)"
   ]
  },
  {
   "cell_type": "code",
   "execution_count": 45,
   "metadata": {},
   "outputs": [
    {
     "data": {
      "text/plain": [
       "0.21153846153846154"
      ]
     },
     "execution_count": 45,
     "metadata": {},
     "output_type": "execute_result"
    }
   ],
   "source": [
    "proportion_march_Easter(1971, 2023)"
   ]
  },
  {
   "cell_type": "markdown",
   "metadata": {},
   "source": [
    "<img src=\"./Lecture_Easter_3.png\" alt=\"Slide 3\" style=\"width: 600px;\"/>"
   ]
  },
  {
   "cell_type": "code",
   "execution_count": 48,
   "metadata": {},
   "outputs": [],
   "source": [
    "def next_Easter_Sunday():\n",
    "    year = 2024\n",
    "    # while not (ImportantDates.Easter(year).month == 3 and ImportantDates.Easter(year).day == 22):\n",
    "    while (not ImportantDates.Easter(year).month == 8) or (not ImportantDates.Easter(year).day == 22):\n",
    "        year = year + 1\n",
    "    \n",
    "    return year"
   ]
  },
  {
   "cell_type": "code",
   "execution_count": 49,
   "metadata": {},
   "outputs": [
    {
     "data": {
      "text/plain": [
       "2285"
      ]
     },
     "execution_count": 49,
     "metadata": {},
     "output_type": "execute_result"
    }
   ],
   "source": [
    "next_Easter_Sunday()"
   ]
  },
  {
   "cell_type": "code",
   "execution_count": null,
   "metadata": {},
   "outputs": [],
   "source": []
  },
  {
   "cell_type": "code",
   "execution_count": null,
   "metadata": {},
   "outputs": [],
   "source": []
  },
  {
   "cell_type": "markdown",
   "metadata": {},
   "source": [
    "Suppose a while loop is dependent on two conditions both being true (e.g. while *** something *** < 0 and *** something else *** > 0:) - does it matter what order they are given in?"
   ]
  },
  {
   "cell_type": "code",
   "execution_count": 51,
   "metadata": {},
   "outputs": [],
   "source": [
    "import time\n",
    "\n",
    "# Functions to demonstrate short circuit evaluation\n",
    "def f():\n",
    "    print(\"In f\")\n",
    "    for i in range(5):\n",
    "        print(\".\", end=\"\")\n",
    "        time.sleep(1)\n",
    "    return False\n",
    "\n",
    "\n",
    "def g():\n",
    "    print(\"In g\")\n",
    "    return False"
   ]
  },
  {
   "cell_type": "code",
   "execution_count": 52,
   "metadata": {},
   "outputs": [
    {
     "name": "stdout",
     "output_type": "stream",
     "text": [
      "In f\n",
      ".....False\n"
     ]
    }
   ],
   "source": [
    "print(f() and g())"
   ]
  },
  {
   "cell_type": "code",
   "execution_count": 53,
   "metadata": {},
   "outputs": [
    {
     "name": "stdout",
     "output_type": "stream",
     "text": [
      "In g\n",
      "False\n"
     ]
    }
   ],
   "source": [
    "print(g() and f())"
   ]
  },
  {
   "cell_type": "code",
   "execution_count": 6,
   "metadata": {},
   "outputs": [
    {
     "name": "stdout",
     "output_type": "stream",
     "text": [
      "3\n"
     ]
    }
   ],
   "source": [
    "import random\n",
    "print(random.randrange(1, 6))"
   ]
  },
  {
   "cell_type": "code",
   "execution_count": 3,
   "metadata": {},
   "outputs": [
    {
     "name": "stdout",
     "output_type": "stream",
     "text": [
      "a\tb\n"
     ]
    }
   ],
   "source": [
    "print(\"a\\tb\")"
   ]
  },
  {
   "cell_type": "code",
   "execution_count": 2,
   "metadata": {},
   "outputs": [
    {
     "name": "stdout",
     "output_type": "stream",
     "text": [
      "aabbb\n"
     ]
    }
   ],
   "source": [
    "print(\"aaaa\\b\\bbbb\")"
   ]
  },
  {
   "cell_type": "code",
   "execution_count": 1,
   "metadata": {},
   "outputs": [
    {
     "name": "stdout",
     "output_type": "stream",
     "text": [
      "\\g\n"
     ]
    },
    {
     "name": "stderr",
     "output_type": "stream",
     "text": [
      "<>:1: SyntaxWarning: invalid escape sequence '\\g'\n",
      "<>:1: SyntaxWarning: invalid escape sequence '\\g'\n",
      "C:\\Users\\fiach_4diktta\\AppData\\Local\\Temp\\ipykernel_1976\\3583119397.py:1: SyntaxWarning: invalid escape sequence '\\g'\n",
      "  print(\"\\g\")\n"
     ]
    }
   ],
   "source": [
    "print(\"\\g\")"
   ]
  }
 ],
 "metadata": {
  "kernelspec": {
   "display_name": "Python 3.9.7 ('base')",
   "language": "python",
   "name": "python3"
  },
  "language_info": {
   "codemirror_mode": {
    "name": "ipython",
    "version": 3
   },
   "file_extension": ".py",
   "mimetype": "text/x-python",
   "name": "python",
   "nbconvert_exporter": "python",
   "pygments_lexer": "ipython3",
   "version": "3.12.1"
  },
  "vscode": {
   "interpreter": {
    "hash": "f34cedfa7a8dbada448a9b503baaebe99e88b253e50e28307c141e831225dbed"
   }
  }
 },
 "nbformat": 4,
 "nbformat_minor": 4
}
